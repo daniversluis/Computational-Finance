{
 "cells": [
  {
   "cell_type": "markdown",
   "id": "b2592e75",
   "metadata": {},
   "source": [
    "# Computational Finance Assignment 1 \n"
   ]
  },
  {
   "cell_type": "code",
   "execution_count": 22,
   "id": "125c2a64",
   "metadata": {},
   "outputs": [],
   "source": [
    "import matplotlib.pyplot as plt"
   ]
  },
  {
   "cell_type": "markdown",
   "id": "02059d7b",
   "metadata": {},
   "source": [
    "### Part 1"
   ]
  },
  {
   "cell_type": "markdown",
   "id": "63e9bc4c",
   "metadata": {},
   "source": [
    "### Part 2"
   ]
  },
  {
   "cell_type": "code",
   "execution_count": 16,
   "id": "fa7a7aec",
   "metadata": {},
   "outputs": [],
   "source": [
    "import numpy as np\n",
    "\n",
    "# Tree for stock price, checked against Appendix B.1, correct.\n",
    "def buildTree (S , sigma , T, N):\n",
    "    dt = T / N\n",
    "    matrix = np.zeros((N+1, N+1))\n",
    "    \n",
    "    u = np.exp(sigma * np.sqrt(dt)) # Take from derivation\n",
    "    d = np.exp(-sigma * np.sqrt(dt))\n",
    "    \n",
    "    # Fill in S0:\n",
    "    matrix[0,0] = S\n",
    "\n",
    "    for i in np.arange(1, N+1): # iterate over rows\n",
    "        for j in np.arange(i + 1): # iterate over columns\n",
    "            if j == 0: \n",
    "                matrix[i,j] = d * matrix[i-1, j] # Upper boundary: this stock price only depends on matrix[i-1,j]\n",
    "                # look at matrix geometry\n",
    "            elif j == i : \n",
    "                matrix[i,j] = u * matrix[i-1, j-1]  # Lower boundary, this stock price only depends on matrix[i-1,j-1]\n",
    "            else: \n",
    "                matrix[i,j] = (d * matrix[i-1, j] + u * matrix[i - 1, j - 1])/2#  Middle stock prices: these \n",
    "                # are indeed combinations of up and down moves\n",
    "    \n",
    "    # Hint : expr e s s each c e l l as a combinat ion o f up\n",
    "    # and down moves\n",
    "    return matrix\n",
    "\n"
   ]
  },
  {
   "cell_type": "code",
   "execution_count": 17,
   "id": "2af8b7f9",
   "metadata": {},
   "outputs": [],
   "source": [
    "def valueOptionMatrix(tree, T, r, K, sigma):\n",
    "    '''\n",
    "    This function is (for now at least) only applicable to call options, \n",
    "    as for put options the option payoff in the last row is equal to\n",
    "    max(K - S, 0) instead of max(S - K, 0)\n",
    "    '''\n",
    "    dt = T / N \n",
    "    \n",
    "    u = np.exp(sigma * np.sqrt(dt)) # from appendix A.\n",
    "    d = np.exp(-sigma * np.sqrt(dt))\n",
    "    \n",
    "    p = (np.exp(r*dt) - d)/(u-d) #also from appendix A\n",
    "    \n",
    "    columns = tree.shape[1]\n",
    "    rows = tree.shape[0]\n",
    "    \n",
    "    # Walk backward, we start in last row of the matrix\n",
    "    \n",
    "    # Add the payoff function in the last row \n",
    "    for c in np.arange(columns): \n",
    "        S = tree[rows - 1, c] # value in the matrix\n",
    "        tree[rows - 1, c] = max(S - K, 0) # option payoff\n",
    "        \n",
    "    # for all other rows, we need to combine from previous rows\n",
    "    # we walk backwards from the last row to the first row\n",
    "    for i in np.arange(rows-1)[::-1]: \n",
    "        for j in np.arange(i+1): \n",
    "            f_down = tree[i + 1, j]\n",
    "            f_up = tree[i + 1, j+ 1]\n",
    "            tree[i, j] = np.exp(-r*dt)*(p*f_up + (1-p) * f_down) \n",
    "    \n",
    "    return tree"
   ]
  },
  {
   "cell_type": "code",
   "execution_count": 18,
   "id": "417e984e",
   "metadata": {},
   "outputs": [
    {
     "name": "stdout",
     "output_type": "stream",
     "text": [
      "[[4.61654023 0.         0.        ]\n",
      " [0.         5.74640373 0.        ]\n",
      " [0.         0.         7.15279281]]\n"
     ]
    }
   ],
   "source": [
    "sigma = 0.1\n",
    "S = 80\n",
    "T = 1\n",
    "N = 2\n",
    "\n",
    "K = 85\n",
    "r = 0.1\n",
    "tree = buildTree(S, sigma, T, N)\n",
    "print(valueOptionMatrix(tree, T, r, K, sigma))"
   ]
  },
  {
   "cell_type": "markdown",
   "id": "c49559b0",
   "metadata": {},
   "source": [
    "1. Write a binomial tree program to approximate the price of the option. To help you get started, you can use the instructions, templates and hints provided in appendix B. Construct a tree with 50 steps and explicitly state your option price approximation in the report."
   ]
  },
  {
   "cell_type": "code",
   "execution_count": 19,
   "id": "0e0be572",
   "metadata": {},
   "outputs": [
    {
     "name": "stdout",
     "output_type": "stream",
     "text": [
      "[[100.           0.           0.           0.           0.        ]\n",
      " [ 90.4837418  110.51709181   0.           0.           0.        ]\n",
      " [ 81.87307531 100.         122.14027582   0.           0.        ]\n",
      " [ 74.08182207  90.4837418  110.51709181 134.98588076   0.        ]\n",
      " [ 67.0320046   81.87307531 100.         122.14027582 149.18246976]]\n",
      "Approximate option price (N = 4)= 11.22116697868433\n"
     ]
    },
    {
     "ename": "KeyboardInterrupt",
     "evalue": "",
     "output_type": "error",
     "traceback": [
      "\u001b[1;31m---------------------------------------------------------------------------\u001b[0m",
      "\u001b[1;31mKeyboardInterrupt\u001b[0m                         Traceback (most recent call last)",
      "\u001b[1;32m~\\AppData\\Local\\Temp/ipykernel_12492/2197273846.py\u001b[0m in \u001b[0;36m<module>\u001b[1;34m\u001b[0m\n\u001b[0;32m     10\u001b[0m \u001b[0mprint\u001b[0m\u001b[1;33m(\u001b[0m\u001b[1;34mf'Approximate option price (N = {N})= {valueOptionMatrix(tree, T, r, K, sigma)[0,0]}'\u001b[0m\u001b[1;33m)\u001b[0m\u001b[1;33m\u001b[0m\u001b[1;33m\u001b[0m\u001b[0m\n\u001b[0;32m     11\u001b[0m \u001b[0mN\u001b[0m \u001b[1;33m=\u001b[0m \u001b[1;36m10000\u001b[0m\u001b[1;33m\u001b[0m\u001b[1;33m\u001b[0m\u001b[0m\n\u001b[1;32m---> 12\u001b[1;33m \u001b[0mtree\u001b[0m \u001b[1;33m=\u001b[0m \u001b[0mbuildTree\u001b[0m\u001b[1;33m(\u001b[0m\u001b[0mS\u001b[0m\u001b[1;33m,\u001b[0m \u001b[0msigma\u001b[0m\u001b[1;33m,\u001b[0m \u001b[0mT\u001b[0m\u001b[1;33m,\u001b[0m \u001b[0mN\u001b[0m\u001b[1;33m)\u001b[0m\u001b[1;33m\u001b[0m\u001b[1;33m\u001b[0m\u001b[0m\n\u001b[0m\u001b[0;32m     13\u001b[0m \u001b[0mprint\u001b[0m\u001b[1;33m(\u001b[0m\u001b[1;34mf'Approximate option price (N = {N})= {valueOptionMatrix(tree, T, r, K, sigma)[0,0]}'\u001b[0m\u001b[1;33m)\u001b[0m\u001b[1;33m\u001b[0m\u001b[1;33m\u001b[0m\u001b[0m\n",
      "\u001b[1;32m~\\AppData\\Local\\Temp/ipykernel_12492/3928893539.py\u001b[0m in \u001b[0;36mbuildTree\u001b[1;34m(S, sigma, T, N)\u001b[0m\n\u001b[0;32m     20\u001b[0m                 \u001b[0mmatrix\u001b[0m\u001b[1;33m[\u001b[0m\u001b[0mi\u001b[0m\u001b[1;33m,\u001b[0m\u001b[0mj\u001b[0m\u001b[1;33m]\u001b[0m \u001b[1;33m=\u001b[0m \u001b[0mu\u001b[0m \u001b[1;33m*\u001b[0m \u001b[0mmatrix\u001b[0m\u001b[1;33m[\u001b[0m\u001b[0mi\u001b[0m\u001b[1;33m-\u001b[0m\u001b[1;36m1\u001b[0m\u001b[1;33m,\u001b[0m \u001b[0mj\u001b[0m\u001b[1;33m-\u001b[0m\u001b[1;36m1\u001b[0m\u001b[1;33m]\u001b[0m  \u001b[1;31m# Lower boundary, this stock price only depends on matrix[i-1,j-1]\u001b[0m\u001b[1;33m\u001b[0m\u001b[1;33m\u001b[0m\u001b[0m\n\u001b[0;32m     21\u001b[0m             \u001b[1;32melse\u001b[0m\u001b[1;33m:\u001b[0m\u001b[1;33m\u001b[0m\u001b[1;33m\u001b[0m\u001b[0m\n\u001b[1;32m---> 22\u001b[1;33m                 \u001b[0mmatrix\u001b[0m\u001b[1;33m[\u001b[0m\u001b[0mi\u001b[0m\u001b[1;33m,\u001b[0m\u001b[0mj\u001b[0m\u001b[1;33m]\u001b[0m \u001b[1;33m=\u001b[0m \u001b[1;33m(\u001b[0m\u001b[0md\u001b[0m \u001b[1;33m*\u001b[0m \u001b[0mmatrix\u001b[0m\u001b[1;33m[\u001b[0m\u001b[0mi\u001b[0m\u001b[1;33m-\u001b[0m\u001b[1;36m1\u001b[0m\u001b[1;33m,\u001b[0m \u001b[0mj\u001b[0m\u001b[1;33m]\u001b[0m \u001b[1;33m+\u001b[0m \u001b[0mu\u001b[0m \u001b[1;33m*\u001b[0m \u001b[0mmatrix\u001b[0m\u001b[1;33m[\u001b[0m\u001b[0mi\u001b[0m \u001b[1;33m-\u001b[0m \u001b[1;36m1\u001b[0m\u001b[1;33m,\u001b[0m \u001b[0mj\u001b[0m \u001b[1;33m-\u001b[0m \u001b[1;36m1\u001b[0m\u001b[1;33m]\u001b[0m\u001b[1;33m)\u001b[0m\u001b[1;33m/\u001b[0m\u001b[1;36m2\u001b[0m\u001b[1;31m#  Middle stock prices: these\u001b[0m\u001b[1;33m\u001b[0m\u001b[1;33m\u001b[0m\u001b[0m\n\u001b[0m\u001b[0;32m     23\u001b[0m                 \u001b[1;31m# are indeed combinations of up and down moves\u001b[0m\u001b[1;33m\u001b[0m\u001b[1;33m\u001b[0m\u001b[1;33m\u001b[0m\u001b[0m\n\u001b[0;32m     24\u001b[0m \u001b[1;33m\u001b[0m\u001b[0m\n",
      "\u001b[1;31mKeyboardInterrupt\u001b[0m: "
     ]
    }
   ],
   "source": [
    "# Use the stock price and option price tree function built before\n",
    "T = 1\n",
    "K = 99\n",
    "S = 100\n",
    "r = 0.06\n",
    "sigma = 0.2\n",
    "N = 4\n",
    "tree = buildTree(S, sigma, T, N)\n",
    "print(tree)\n",
    "print(f'Approximate option price (N = {N})= {valueOptionMatrix(tree, T, r, K, sigma)[0,0]}')\n",
    "N = 10000\n",
    "tree = buildTree(S, sigma, T, N)\n",
    "print(f'Approximate option price (N = {N})= {valueOptionMatrix(tree, T, r, K, sigma)[0,0]}')\n"
   ]
  },
  {
   "cell_type": "code",
   "execution_count": 20,
   "id": "b21c2d55",
   "metadata": {},
   "outputs": [
    {
     "name": "stdout",
     "output_type": "stream",
     "text": [
      "11.544280227051097\n"
     ]
    }
   ],
   "source": [
    "from scipy.stats import norm\n",
    "import numpy as np\n",
    "\n",
    "def BlackScholesFormula(St, K, r, sigma, t, T): \n",
    "    \"\"\"\n",
    "    Calculate the option price analytically. \n",
    "    \"\"\"\n",
    "    tau = T - t\n",
    "    d1 = (np.log(St/K) + (r+sigma**2/2)*tau) / (sigma * np.sqrt(tau))\n",
    "    d2 = d1 - sigma * np.sqrt(tau)\n",
    "    \n",
    "    V = St * norm.cdf(d1) - np.exp(-r * tau) * K * norm.cdf(d2)\n",
    "    return V\n",
    "\n",
    "print(BlackScholesFormula(100, 99, 0.06, 0.2, 0, 1))"
   ]
  },
  {
   "cell_type": "code",
   "execution_count": 36,
   "id": "dae83bec",
   "metadata": {},
   "outputs": [
    {
     "name": "stderr",
     "output_type": "stream",
     "text": [
      "C:\\Users\\danie\\AppData\\Local\\Temp/ipykernel_12492/399503066.py:9: RuntimeWarning: divide by zero encountered in double_scalars\n",
      "  d1 = (np.log(St/K) + (r+sigma**2/2)*tau) / (sigma * np.sqrt(tau))\n",
      "C:\\Users\\danie\\AppData\\Local\\Temp/ipykernel_12492/1014150928.py:12: RuntimeWarning: divide by zero encountered in double_scalars\n",
      "  p = (np.exp(r*dt) - d)/(u-d) #also from appendix A\n",
      "C:\\Users\\danie\\AppData\\Local\\Temp/ipykernel_12492/1014150928.py:30: RuntimeWarning: invalid value encountered in double_scalars\n",
      "  tree[i, j] = np.exp(-r*dt)*(p*f_up + (1-p) * f_down)\n"
     ]
    },
    {
     "data": {
      "image/png": "[encoded data removed]",
      "text/plain": [
       "<Figure size 1080x720 with 1 Axes>"
      ]
     },
     "metadata": {
      "needs_background": "light"
     },
     "output_type": "display_data"
    },
    {
     "data": {
      "image/png": "[encoded data removed]",
      "text/plain": [
       "<Figure size 1080x720 with 1 Axes>"
      ]
     },
     "metadata": {
      "needs_background": "light"
     },
     "output_type": "display_data"
    }
   ],
   "source": [
    "# Part II, 2. How does the binomial tree (N = 50) compared to the analytical Black scholes value? \n",
    "n = 300\n",
    "\n",
    "\n",
    "# compare different volatilities\n",
    "errors = []\n",
    "analytic_prices = []\n",
    "approx_prices = []\n",
    "for sigma in np.linspace(0,1,n):\n",
    "    analytic_optionprice = BlackScholesFormula(100, 99, 0.06, sigma, 0, 1)\n",
    "    analytic_prices.append(analytic_optionprice)\n",
    "    \n",
    "    tree = buildTree(100, 0.2, 1, 50)\n",
    "    approx_optionprice = valueOptionMatrix(tree, 1, 0.06, 99, sigma)[0,0]\n",
    "    \n",
    "    approx_prices.append(approx_optionprice)\n",
    "    errors.append(np.abs(analytic_optionprice - approx_optionprice))\n",
    "    \n",
    "plt.figure(figsize = (15,10))\n",
    "plt.plot(np.linspace(0,1,n), analytic_prices, '.', color = 'tab:blue', label = 'Analytic')\n",
    "plt.plot(np.linspace(0,1,n), approx_prices, '.', color = 'tab:orange', label = 'Binomial tree')\n",
    "plt.xlabel('Volatility')\n",
    "plt.ylabel('Option price')\n",
    "plt.show()\n",
    "\n",
    "plt.figure(figsize = (15,10))\n",
    "plt.plot(np.linspace(0,1,n), errors, '.', color = 'tab:red')\n",
    "plt.show()\n",
    "# plt.ylabel('Absolute error')\n",
    "\n",
    "    \n",
    "\n"
   ]
  },
  {
   "cell_type": "markdown",
   "id": "60ad26da",
   "metadata": {},
   "source": [
    "For N = 50, the approximate option price computed with the binomial tree quickly deviates from the analytical option price as the volatility increases. "
   ]
  },
  {
   "cell_type": "code",
   "execution_count": 45,
   "id": "ce47e19d",
   "metadata": {},
   "outputs": [
    {
     "name": "stderr",
     "output_type": "stream",
     "text": [
      "C:\\Users\\danie\\AppData\\Local\\Temp/ipykernel_12492/399503066.py:9: RuntimeWarning: divide by zero encountered in double_scalars\n",
      "  d1 = (np.log(St/K) + (r+sigma**2/2)*tau) / (sigma * np.sqrt(tau))\n",
      "C:\\Users\\danie\\AppData\\Local\\Temp/ipykernel_12492/1014150928.py:12: RuntimeWarning: divide by zero encountered in double_scalars\n",
      "  p = (np.exp(r*dt) - d)/(u-d) #also from appendix A\n",
      "C:\\Users\\danie\\AppData\\Local\\Temp/ipykernel_12492/1014150928.py:30: RuntimeWarning: invalid value encountered in double_scalars\n",
      "  tree[i, j] = np.exp(-r*dt)*(p*f_up + (1-p) * f_down)\n",
      "C:\\Users\\danie\\AppData\\Local\\Temp/ipykernel_12492/399503066.py:9: RuntimeWarning: divide by zero encountered in double_scalars\n",
      "  d1 = (np.log(St/K) + (r+sigma**2/2)*tau) / (sigma * np.sqrt(tau))\n",
      "C:\\Users\\danie\\AppData\\Local\\Temp/ipykernel_12492/1014150928.py:12: RuntimeWarning: divide by zero encountered in double_scalars\n",
      "  p = (np.exp(r*dt) - d)/(u-d) #also from appendix A\n",
      "C:\\Users\\danie\\AppData\\Local\\Temp/ipykernel_12492/1014150928.py:30: RuntimeWarning: invalid value encountered in double_scalars\n",
      "  tree[i, j] = np.exp(-r*dt)*(p*f_up + (1-p) * f_down)\n",
      "C:\\Users\\danie\\AppData\\Local\\Temp/ipykernel_12492/399503066.py:9: RuntimeWarning: divide by zero encountered in double_scalars\n",
      "  d1 = (np.log(St/K) + (r+sigma**2/2)*tau) / (sigma * np.sqrt(tau))\n",
      "C:\\Users\\danie\\AppData\\Local\\Temp/ipykernel_12492/1014150928.py:12: RuntimeWarning: divide by zero encountered in double_scalars\n",
      "  p = (np.exp(r*dt) - d)/(u-d) #also from appendix A\n",
      "C:\\Users\\danie\\AppData\\Local\\Temp/ipykernel_12492/1014150928.py:30: RuntimeWarning: invalid value encountered in double_scalars\n",
      "  tree[i, j] = np.exp(-r*dt)*(p*f_up + (1-p) * f_down)\n",
      "C:\\Users\\danie\\AppData\\Local\\Temp/ipykernel_12492/399503066.py:9: RuntimeWarning: divide by zero encountered in double_scalars\n",
      "  d1 = (np.log(St/K) + (r+sigma**2/2)*tau) / (sigma * np.sqrt(tau))\n",
      "C:\\Users\\danie\\AppData\\Local\\Temp/ipykernel_12492/1014150928.py:12: RuntimeWarning: divide by zero encountered in double_scalars\n",
      "  p = (np.exp(r*dt) - d)/(u-d) #also from appendix A\n",
      "C:\\Users\\danie\\AppData\\Local\\Temp/ipykernel_12492/1014150928.py:30: RuntimeWarning: invalid value encountered in double_scalars\n",
      "  tree[i, j] = np.exp(-r*dt)*(p*f_up + (1-p) * f_down)\n"
     ]
    },
    {
     "data": {
      "image/png": "[encoded data removed]",
      "text/plain": [
       "<Figure size 1080x720 with 1 Axes>"
      ]
     },
     "metadata": {
      "needs_background": "light"
     },
     "output_type": "display_data"
    }
   ],
   "source": [
    "n = 100\n",
    "\n",
    "plt.figure(figsize = (15,10))\n",
    "\n",
    "for N in [15, 50, 100, 200]:\n",
    "    # compare different volatilities\n",
    "    errors = []\n",
    "    analytic_prices = []\n",
    "    approx_prices = []\n",
    "    for sigma in np.linspace(0,1,n):\n",
    "        analytic_optionprice = BlackScholesFormula(100, 99, 0.06, sigma, 0, 1)\n",
    "        analytic_prices.append(analytic_optionprice)\n",
    "\n",
    "        tree = buildTree(100, 0.2, 1, N)\n",
    "        approx_optionprice = valueOptionMatrix(tree, 1, 0.06, 99, sigma)[0,0]\n",
    "\n",
    "        approx_prices.append(approx_optionprice)\n",
    "        errors.append(np.abs(analytic_optionprice - approx_optionprice))\n",
    "    \n",
    "#     plt.title(f'N = {N}')\n",
    "    plt.plot(np.linspace(0,1,n), analytic_prices, '.', label = f'Analytic, N = {N}')\n",
    "    plt.plot(np.linspace(0,1,n), approx_prices, '.', label = f'Binomial tree, N = {N}')\n",
    "    plt.legend()\n",
    "    plt.xlabel('Volatility')\n",
    "    plt.ylabel('Option price')\n",
    "\n",
    "\n",
    "#     plt.plot(np.linspace(0,1,n), errors, '.', color = 'tab:red')\n",
    "#     plt.show()\n",
    "# plt.ylabel('Absolute error')\n",
    "plt.show()"
   ]
  },
  {
   "cell_type": "code",
   "execution_count": null,
   "id": "71751a92",
   "metadata": {},
   "outputs": [],
   "source": []
  }
 ],
 "metadata": {
  "kernelspec": {
   "display_name": "Python 3 (ipykernel)",
   "language": "python",
   "name": "python3"
  },
  "language_info": {
   "codemirror_mode": {
    "name": "ipython",
    "version": 3
   },
   "file_extension": ".py",
   "mimetype": "text/x-python",
   "name": "python",
   "nbconvert_exporter": "python",
   "pygments_lexer": "ipython3",
   "version": "3.8.11"
  }
 },
 "nbformat": 4,
 "nbformat_minor": 5
}
