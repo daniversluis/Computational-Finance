{
 "cells": [
  {
   "cell_type": "markdown",
   "id": "b2592e75",
   "metadata": {},
   "source": [
    "# Computational Finance Assignment 1 \n"
   ]
  },
  {
   "cell_type": "markdown",
   "id": "02059d7b",
   "metadata": {},
   "source": [
    "### Part 1"
   ]
  },
  {
   "cell_type": "markdown",
   "id": "63e9bc4c",
   "metadata": {},
   "source": [
    "### Part 2"
   ]
  },
  {
   "cell_type": "code",
   "execution_count": 4,
   "id": "fa7a7aec",
   "metadata": {},
   "outputs": [],
   "source": [
    "import numpy as np\n",
    "\n",
    "# Tree for stock price, checked against Appendix B.1, correct.\n",
    "def buildTree (S , sigma , T, N):\n",
    "    dt = T / N\n",
    "    matrix = np.zeros((N+1, N+1))\n",
    "    \n",
    "    u = np.exp(sigma * np.sqrt(dt)) # Take from derivation\n",
    "    d = np.exp(-sigma * np.sqrt(dt))\n",
    "    \n",
    "    # Fill in S0:\n",
    "    matrix[0,0] = S\n",
    "\n",
    "    for i in np.arange(1, N+1): # iterate over rows\n",
    "        for j in np.arange(i + 1): # iterate over columns\n",
    "            if j == 0: \n",
    "                matrix[i,j] = d * matrix[i-1, j] # Upper boundary: this stock price only depends on matrix[i-1,j]\n",
    "                # look at matrix geometry\n",
    "            elif j == i : \n",
    "                matrix[i,j] = u * matrix[i-1, j-1]  # Lower boundary, this stock price only depends on matrix[i-1,j-1]\n",
    "            else: \n",
    "                matrix[i,j] = (d * matrix[i-1, j] + u * matrix[i - 1, j - 1])/2#  Middle stock prices: these \n",
    "                # are indeed combinations of up and down moves\n",
    "    \n",
    "    # Hint : expr e s s each c e l l as a combinat ion o f up\n",
    "    # and down moves\n",
    "    return matrix\n",
    "\n"
   ]
  },
  {
   "cell_type": "code",
   "execution_count": 18,
   "id": "2af8b7f9",
   "metadata": {},
   "outputs": [],
   "source": [
    "def valueOptionMatrix(tree, T, r, K, sigma):\n",
    "    '''\n",
    "    This function is (for now at least) only applicable to call options, \n",
    "    as for put options the option payoff in the last row is equal to\n",
    "    max(K - S, 0) instead of max(S - K, 0)\n",
    "    '''\n",
    "    dt = T / N \n",
    "    \n",
    "    u = np.exp(sigma * np.sqrt(dt)) # from appendix A.\n",
    "    d = np.exp(-sigma * np.sqrt(dt))\n",
    "    \n",
    "    p = (np.exp(r*dt) - d)/(u-d) #also from appendix A\n",
    "    \n",
    "    columns = tree.shape[1]\n",
    "    rows = tree.shape[0]\n",
    "    \n",
    "    # Walk backward, we start in last row of the matrix\n",
    "    \n",
    "    # Add the payoff function in the last row \n",
    "    for c in np.arange(columns): \n",
    "        S = tree[rows - 1, c] # value in the matrix\n",
    "        tree[rows - 1, c] = max(S - K, 0) # opion payoff\n",
    "        \n",
    "    # for all other rows, we need to combine from previous rows\n",
    "    # we walk backwards from the last row to the first row\n",
    "    for i in np.arange(rows-1)[::-1]: \n",
    "        for j in np.arange(i+1): \n",
    "            f_down = tree[i + 1, j]\n",
    "            f_up = tree[i + 1, j+ 1]\n",
    "            tree[i, j] = np.exp(-r*dt)*(p*f_up + (1-p) * f_down) \n",
    "    \n",
    "    return tree"
   ]
  },
  {
   "cell_type": "code",
   "execution_count": 19,
   "id": "417e984e",
   "metadata": {},
   "outputs": [
    {
     "name": "stdout",
     "output_type": "stream",
     "text": [
      "[[ 1.52772077  0.          0.        ]\n",
      " [ 6.31598721  0.73925199  0.        ]\n",
      " [15.55012437  5.          0.        ]]\n"
     ]
    }
   ],
   "source": [
    "sigma = 0.1\n",
    "S = 80\n",
    "T = 1\n",
    "N = 2\n",
    "\n",
    "K = 85\n",
    "r = 0.1\n",
    "tree = buildTree(S, sigma, T, N)\n",
    "print(valueOptionMatrix(tree, T, r, K, sigma))"
   ]
  },
  {
   "cell_type": "markdown",
   "id": "c49559b0",
   "metadata": {},
   "source": [
    "1. Write a binomial tree program to approximate the price of the option. To help you get started, you can use the instructions, templates and hints provided in appendix B. Construct a tree with 50 steps and explicitly state your option price approximation in the report."
   ]
  },
  {
   "cell_type": "code",
   "execution_count": 27,
   "id": "0e0be572",
   "metadata": {},
   "outputs": [
    {
     "name": "stdout",
     "output_type": "stream",
     "text": [
      "Approximate option price (N = 50)= 4.781123675595891\n",
      "Approximate option price (N = 1000)= 4.779379085661284\n"
     ]
    }
   ],
   "source": [
    "# Use the stock price and option price tree function built before\n",
    "T = 1\n",
    "K = 99\n",
    "S = 100\n",
    "r = 0.06\n",
    "sigma = 0.2\n",
    "N = 50\n",
    "tree = buildTree(S, sigma, T, N)\n",
    "print(f'Approximate option price (N = {N})= {valueOptionMatrix(tree, T, r, K, sigma)[0,0]}')\n",
    "N = 1000\n",
    "tree = buildTree(S, sigma, T, N)\n",
    "print(f'Approximate option price (N = {N})= {valueOptionMatrix(tree, T, r, K, sigma)[0,0]}')\n"
   ]
  },
  {
   "cell_type": "code",
   "execution_count": null,
   "id": "b21c2d55",
   "metadata": {},
   "outputs": [],
   "source": []
  }
 ],
 "metadata": {
  "kernelspec": {
   "display_name": "Python 3 (ipykernel)",
   "language": "python",
   "name": "python3"
  },
  "language_info": {
   "codemirror_mode": {
    "name": "ipython",
    "version": 3
   },
   "file_extension": ".py",
   "mimetype": "text/x-python",
   "name": "python",
   "nbconvert_exporter": "python",
   "pygments_lexer": "ipython3",
   "version": "3.8.11"
  }
 },
 "nbformat": 4,
 "nbformat_minor": 5
}
